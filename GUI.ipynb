{
 "cells": [
  {
   "cell_type": "markdown",
   "metadata": {},
   "source": [
    "## GUI"
   ]
  },
  {
   "cell_type": "markdown",
   "metadata": {},
   "source": [
    "Este proyecto utiliza Gradio para crear una interfaz de chat que interactúa con el modelo Llama3.2, permitiendo al usuario hacer preguntas sobre diversos temas. Las respuestas se generan a partir de documentos que el usuario envia al modelo, lo que facilita la interacción y consulta directa con el modelo"
   ]
  },
  {
   "cell_type": "markdown",
   "metadata": {},
   "source": [
    "Importa las librerías necesarias"
   ]
  },
  {
   "cell_type": "code",
   "execution_count": 17,
   "metadata": {},
   "outputs": [],
   "source": [
    "import gradio as gr\n",
    "from langchain.document_loaders import PyPDFLoader\n",
    "from langchain.text_splitter import RecursiveCharacterTextSplitter\n",
    "from langchain.embeddings import HuggingFaceEmbeddings\n",
    "from langchain.vectorstores import Chroma\n",
    "from langchain.prompts import ChatPromptTemplate\n",
    "from langchain.llms import Ollama"
   ]
  },
  {
   "cell_type": "markdown",
   "metadata": {},
   "source": [
    "Configuramos el modelo y los embeddings"
   ]
  },
  {
   "cell_type": "code",
   "execution_count": 18,
   "metadata": {},
   "outputs": [],
   "source": [
    "embeddings = HuggingFaceEmbeddings(model_name=\"sentence-transformers/LaBSE\")\n",
    "llm = Ollama(model=\"llama3.2\")\n",
    "\n",
    "vector_store = None\n",
    "retriever = None"
   ]
  },
  {
   "cell_type": "markdown",
   "metadata": {},
   "source": [
    "Procesa un archivo PDF y crea un vector store basado en los embeddings."
   ]
  },
  {
   "cell_type": "code",
   "execution_count": 19,
   "metadata": {},
   "outputs": [],
   "source": [
    "def extract_data_fromPDF(pdf_file):\n",
    "    global vector_store, retriever\n",
    "\n",
    "    # Cargar el PDF\n",
    "    loader = PyPDFLoader(pdf_file.name)\n",
    "    documents = loader.load()\n",
    "\n",
    "    # Dividir texto en fragmentos\n",
    "    text_splitter = RecursiveCharacterTextSplitter(chunk_size=400, chunk_overlap=20)\n",
    "    split_docs = text_splitter.split_documents(documents)\n",
    "\n",
    "    # Crear embeddings para el vector store\n",
    "    vector_store = Chroma.from_documents(\n",
    "        documents=split_docs,\n",
    "        collection_name='rag-gui-1',\n",
    "        embedding=embeddings,\n",
    "    )\n",
    "\n",
    "    # Crear un retriever\n",
    "    retriever = vector_store.as_retriever()\n",
    "\n",
    "    return \"PDF cargado con éxito\"\n"
   ]
  },
  {
   "cell_type": "markdown",
   "metadata": {},
   "source": [
    "Responde una pregunta utilizando el contenido del vector store o el modelo directamente.\n"
   ]
  },
  {
   "cell_type": "code",
   "execution_count": 20,
   "metadata": {},
   "outputs": [],
   "source": [
    "\n",
    "def chat_answer(question):\n",
    "    if retriever:\n",
    "        # Recuperar contexto relevante si se ha cargado un PDF\n",
    "        results = retriever.get_relevant_documents(question)\n",
    "        context = \"\\n\".join([doc.page_content for doc in results])\n",
    "\n",
    "        # Crear el prompt\n",
    "        template = \"\"\"Responde en base al siguiente contexto:\n",
    "        {context}\n",
    "\n",
    "        Pregunta: {question}\n",
    "        Respuesta: en español.\n",
    "        \"\"\"\n",
    "        prompt = ChatPromptTemplate.from_template(template)\n",
    "        final_prompt = prompt.format(context=context, question=question)\n",
    "\n",
    "        response = llm(final_prompt)\n",
    "    else:\n",
    "        # Si no hay documentos cargados, responder directamente\n",
    "        response = llm(question)\n",
    "\n",
    "    return response"
   ]
  },
  {
   "cell_type": "markdown",
   "metadata": {},
   "source": [
    "Crear la interfaz de Gradio"
   ]
  },
  {
   "cell_type": "code",
   "execution_count": 21,
   "metadata": {},
   "outputs": [
    {
     "name": "stdout",
     "output_type": "stream",
     "text": [
      "* Running on local URL:  http://127.0.0.1:7865\n",
      "\n",
      "To create a public link, set `share=True` in `launch()`.\n"
     ]
    },
    {
     "data": {
      "text/html": [
       "<div><iframe src=\"http://127.0.0.1:7865/\" width=\"100%\" height=\"500\" allow=\"autoplay; camera; microphone; clipboard-read; clipboard-write;\" frameborder=\"0\" allowfullscreen></iframe></div>"
      ],
      "text/plain": [
       "<IPython.core.display.HTML object>"
      ]
     },
     "metadata": {},
     "output_type": "display_data"
    },
    {
     "data": {
      "text/plain": []
     },
     "execution_count": 21,
     "metadata": {},
     "output_type": "execute_result"
    },
    {
     "name": "stderr",
     "output_type": "stream",
     "text": [
      "Number of requested results 4 is greater than number of elements in index 2, updating n_results = 2\n",
      "Number of requested results 4 is greater than number of elements in index 2, updating n_results = 2\n",
      "Number of requested results 4 is greater than number of elements in index 2, updating n_results = 2\n"
     ]
    }
   ],
   "source": [
    "with gr.Blocks(theme=gr.themes.Glass()) as demo:\n",
    "    gr.Markdown(\"# GUI\")\n",
    "    gr.Markdown(\"Carga un archivo PDF y realiza preguntas sobre el documento\")\n",
    "\n",
    "    with gr.Row():\n",
    "        question_input = gr.Textbox(label=\"Pregunta\", placeholder=\"Escribe aquí tu pregunta\")\n",
    "        answer_output = gr.Textbox(label=\"Respuesta\")\n",
    "\n",
    "    ask_button = gr.Button(\"Responder\")\n",
    "    ask_button.click(chat_answer, inputs=question_input, outputs=answer_output)\n",
    "\n",
    "    with gr.Row():\n",
    "        pdf_input = gr.File(label=\"Sube aquí tu archivo PDF\", type=\"filepath\")\n",
    "        pdf_status = gr.Label(label=\"Estado del PDF\")\n",
    "\n",
    "    process_button = gr.Button(\"Procesar documento\")\n",
    "    process_button.click(extract_data_fromPDF, inputs=pdf_input, outputs=pdf_status)\n",
    "\n",
    "demo.launch()\n"
   ]
  },
  {
   "cell_type": "markdown",
   "metadata": {},
   "source": [
    "En conclusión, la interfaz de chat con Llama3.2 proporciona una manera sencilla y efectiva de obtener respuestas a preguntas sobre una variedad de temas, utilizando un modelo de lenguaje potente y accesible a través de Gradio. Esto facilita la interacción con el modelo y mejora la experiencia del usuario."
   ]
  }
 ],
 "metadata": {
  "kernelspec": {
   "display_name": "rag",
   "language": "python",
   "name": "python3"
  },
  "language_info": {
   "codemirror_mode": {
    "name": "ipython",
    "version": 3
   },
   "file_extension": ".py",
   "mimetype": "text/x-python",
   "name": "python",
   "nbconvert_exporter": "python",
   "pygments_lexer": "ipython3",
   "version": "3.13.1"
  }
 },
 "nbformat": 4,
 "nbformat_minor": 2
}
