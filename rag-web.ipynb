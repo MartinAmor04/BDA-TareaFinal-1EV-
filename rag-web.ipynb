{
 "cells": [
  {
   "cell_type": "code",
   "execution_count": 26,
   "metadata": {},
   "outputs": [
    {
     "name": "stdout",
     "output_type": "stream",
     "text": [
      "['Book Review: The Stranger By Albert Camus', 'Review', 'Dec 16', 'Written By', 'Inhyuk K.', '“Maman died today. Or yesterday maybe, I don’t know. I got a telegram from the home: ‘Mother deceased. Funeral tomorrow. Faithfully yours.’ That doesn’t mean anything. Maybe it was yesterday.”', 'What an opening line.', 'The Stranger', 'written by French writer Albert Camus is a novel that is centered around the philosophical idea of existentialism.', 'It would be absurd to define existentialism in a paragraph, but here is the oversimplified summary of existentialism: the world is full of meaninglessness. There is no innate purpose or rules in our lives, and all of us are running towards the same ending: death. Existentialism says that in a meaningless world, we must make our own choices, bear responsibility for those choices, and find meaning and purpose on our own.', 'The main character of', 'The Stranger', ', Meursault, personifies existentialism. The opening line spoken by Meursault clearly shows that he does not meet societal expectations and that he is cynical about societal values because we commonly expect that one should react with sorrow to the death of the parent. Meursault is an anomaly, a stranger to society. He does not drop a tear at his own mother’s funeral and sleeps with a woman the day after the funeral. Moreover, he goes to a court and shoots an Arabian man just because the sunlight was too strong. Is he a psychopath? I thought so, but my view on Meursault changed quite a bit after finishing the book.', 'Meursault is an individual who is genuine, truthful, and free from social values. Putting aside the fact that Meursault has very little sense of ethics, I wanted to ask you:', 'How free are you from societal expectations?', 'How free are we in a society where we’re expected to talk and behave in a certain way?', 'When I finished the book, I realized that I’ve been just trying to imitate other people’s lifestyles and trying to meet the expectations of others. I was merely walking on the pathways that were given because I was afraid to be considered a', 'stranger', '. I learned that I am responsible to make decisions based on my own beliefs and values. This book inspired me to become less bound by societal expectations and to start inquiring about what kind of person I truly am.', 'If you’re interested in reading the book, it will hopefully be as thought-provoking and compelling as it was for me.', 'Inhyuk K.', 'My name is In Hyuk, and I am a writer and a podcaster for OYISTER. I enjoy synthesizing my insights in the writings which usually concern world/societal issues. As for the podcast segment named “The Conversation”, Michael and I cover world issues and review various restaurants.']\n"
     ]
    }
   ],
   "source": [
    "import requests\n",
    "from bs4 import BeautifulSoup\n",
    "\n",
    "def extract_lines_from_web(url):\n",
    "    \"\"\"\n",
    "    Extrae el texto de la página web y divide cada línea en un fragmento de texto.\n",
    "    \n",
    "    Args:\n",
    "        url (str): URL de la página web.\n",
    "        \n",
    "    Returns:\n",
    "        list: Lista de líneas extraídas de la página web.\n",
    "    \"\"\"\n",
    "    # Realizamos la solicitud HTTP a la página web\n",
    "    response = requests.get(url)\n",
    "    if response.status_code != 200:\n",
    "        print(f\"Error al acceder a la página: {response.status_code}\")\n",
    "        return []\n",
    "\n",
    "    # Parseamos el contenido HTML de la página\n",
    "    soup = BeautifulSoup(response.text, 'html.parser')\n",
    "    \n",
    "    # Extraemos el texto de la página web. Ajusta el selector según sea necesario.\n",
    "    # Aquí estoy asumiendo que el texto principal está en un artículo con la clase 'article-content'\n",
    "    content = soup.find('div', {'class': 'content'})  # Cambiar según la estructura de la página\n",
    "    \n",
    "    if not content:\n",
    "        print(\"No se pudo encontrar el contenido principal de la página.\")\n",
    "        return []\n",
    "\n",
    "    # Extraemos todo el texto del artículo\n",
    "    full_text = content.get_text(\"\\n\", strip=True)\n",
    "    \n",
    "    # Dividimos el texto en líneas\n",
    "    lines = full_text.splitlines()\n",
    "    \n",
    "    # Filtramos líneas vacías y devolvemos solo las líneas no vacías\n",
    "    return [line.strip() for line in lines if line.strip()]\n",
    "\n",
    "# Ejemplo de uso\n",
    "\n",
    "url = \"https://oyister.oyis.org/articles/book-review-the-stranger-by-albert-camus\"\n",
    "\n",
    "# Extraer líneas de la página web\n",
    "web_lines = extract_lines_from_web(url)\n",
    "\n",
    "# Imprimir las líneas extraídas\n",
    "print(web_lines)\n"
   ]
  },
  {
   "cell_type": "code",
   "execution_count": 27,
   "metadata": {},
   "outputs": [],
   "source": [
    "from langchain_huggingface import HuggingFaceEmbeddings\n",
    "\n",
    "embeddings = HuggingFaceEmbeddings(model_name=\"sentence-transformers/all-mpnet-base-v2\")"
   ]
  },
  {
   "cell_type": "code",
   "execution_count": 29,
   "metadata": {},
   "outputs": [],
   "source": [
    "from langchain_chroma import Chroma\n",
    "\n",
    "\n",
    "vector_store = Chroma.from_texts(\n",
    "    texts=web_lines,\n",
    "    collection_name=\"book_review\",\n",
    "    embedding=embeddings,\n",
    ")"
   ]
  },
  {
   "cell_type": "code",
   "execution_count": 30,
   "metadata": {},
   "outputs": [],
   "source": [
    "from langchain_chroma import Chroma\n",
    "\n",
    "vector_store = Chroma(\n",
    "    collection_name=\"book_review\",\n",
    "    embedding_function=embeddings,\n",
    ")"
   ]
  },
  {
   "cell_type": "code",
   "execution_count": 31,
   "metadata": {},
   "outputs": [],
   "source": [
    "retriever = vector_store.as_retriever()"
   ]
  },
  {
   "cell_type": "code",
   "execution_count": 32,
   "metadata": {},
   "outputs": [
    {
     "data": {
      "text/plain": [
       "4"
      ]
     },
     "execution_count": 32,
     "metadata": {},
     "output_type": "execute_result"
    }
   ],
   "source": [
    "question = \"Name of the protagonist\"\n",
    "docs = vector_store.similarity_search(question)\n",
    "len(docs)"
   ]
  },
  {
   "cell_type": "code",
   "execution_count": 33,
   "metadata": {},
   "outputs": [
    {
     "data": {
      "text/plain": [
       "Document(metadata={}, page_content='The main character of')"
      ]
     },
     "execution_count": 33,
     "metadata": {},
     "output_type": "execute_result"
    }
   ],
   "source": [
    "docs[0]"
   ]
  },
  {
   "cell_type": "code",
   "execution_count": 34,
   "metadata": {},
   "outputs": [],
   "source": [
    "from langchain_core.output_parsers import StrOutputParser\n",
    "from langchain.prompts import ChatPromptTemplate\n",
    "from langchain_ollama.chat_models import ChatOllama\n",
    "from langchain_core.runnables import RunnableLambda, RunnablePassthrough\n",
    "\n",
    "# Prompt\n",
    "template = \"\"\"Answer the question based only on the following context:\n",
    "{context}\n",
    "\n",
    "Question: {question}\n",
    "\"\"\"\n",
    "prompt = ChatPromptTemplate.from_template(template)\n",
    "\n",
    "# Local LLM\n",
    "ollama_llm = \"llama3.2\"\n",
    "model_local = ChatOllama(model=ollama_llm)\n",
    "\n",
    "# Chain\n",
    "chain = (\n",
    "    {\"context\": retriever, \"question\": RunnablePassthrough()}\n",
    "    | prompt\n",
    "    | model_local\n",
    "    | StrOutputParser()\n",
    ")"
   ]
  },
  {
   "cell_type": "code",
   "execution_count": 40,
   "metadata": {},
   "outputs": [
    {
     "data": {
      "text/plain": [
       "'The author of the book is Albert Camus, a French writer.'"
      ]
     },
     "execution_count": 40,
     "metadata": {},
     "output_type": "execute_result"
    }
   ],
   "source": [
    "chain.invoke(\"Tell me about the author of the book\")"
   ]
  }
 ],
 "metadata": {
  "kernelspec": {
   "display_name": "rag",
   "language": "python",
   "name": "python3"
  },
  "language_info": {
   "codemirror_mode": {
    "name": "ipython",
    "version": 3
   },
   "file_extension": ".py",
   "mimetype": "text/x-python",
   "name": "python",
   "nbconvert_exporter": "python",
   "pygments_lexer": "ipython3",
   "version": "3.13.1"
  }
 },
 "nbformat": 4,
 "nbformat_minor": 2
}
