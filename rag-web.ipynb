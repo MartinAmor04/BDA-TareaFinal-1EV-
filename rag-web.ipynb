{
 "cells": [
  {
   "cell_type": "markdown",
   "metadata": {},
   "source": [
    "## Importamos librerías necesarias"
   ]
  },
  {
   "cell_type": "code",
   "execution_count": null,
   "metadata": {},
   "outputs": [],
   "source": [
    "import requests\n",
    "from bs4 import BeautifulSoup\n",
    "from langchain.text_splitter import RecursiveCharacterTextSplitter\n",
    "from langchain_huggingface import HuggingFaceEmbeddings\n",
    "from langchain_chroma import Chroma\n",
    "from langchain_core.output_parsers import StrOutputParser\n",
    "from langchain.prompts import ChatPromptTemplate\n",
    "from langchain_ollama.chat_models import ChatOllama\n",
    "from langchain_core.runnables import RunnableLambda, RunnablePassthrough\n"
   ]
  },
  {
   "cell_type": "markdown",
   "metadata": {},
   "source": [
    "## Extraemos el contenido de la página web y la dividimos en chunks"
   ]
  },
  {
   "cell_type": "code",
   "execution_count": 29,
   "metadata": {},
   "outputs": [
    {
     "name": "stdout",
     "output_type": "stream",
     "text": [
      "Se cargaron y dividieron 11 fragmentos de texto.\n"
     ]
    }
   ],
   "source": [
    "\n",
    "\n",
    "# Extrae el texto de la página web y divide cada línea en un fragmento de texto\n",
    "def extract_lines_from_web(url):\n",
    "    response = requests.get(url)\n",
    "    if response.status_code != 200:\n",
    "        print(f\"Error al acceder a la página: {response.status_code}\")\n",
    "        return []\n",
    "\n",
    "    # Parseamos el contenido HTML de la página\n",
    "    soup = BeautifulSoup(response.text, 'html.parser')\n",
    "    \n",
    "    # Extraemos el texto de la página web. El texto principal está en un artículo con la clase 'article-content'\n",
    "    content = soup.find('div', {'class': 'content'})  \n",
    "    \n",
    "    if not content:\n",
    "        print(\"No se pudo encontrar el contenido principal de la página.\")\n",
    "        return []\n",
    "\n",
    "    # Extraemos todo el texto del artículo\n",
    "    full_text = content.get_text(\"\\n\", strip=True)\n",
    "    \n",
    "    text_splitter = RecursiveCharacterTextSplitter(chunk_size=400, chunk_overlap=20)    # Divide el texto en chunks\n",
    "    web_texts = text_splitter.split_text(full_text)\n",
    "    \n",
    "    return web_texts\n",
    "\n",
    "\n",
    "url = \"https://oyister.oyis.org/articles/book-review-the-stranger-by-albert-camus\" \n",
    "\n",
    "web_texts = extract_lines_from_web(url)\n",
    "\n",
    "print(f\"Se cargaron y dividieron {len(web_texts)} fragmentos de texto.\")\n"
   ]
  },
  {
   "cell_type": "markdown",
   "metadata": {},
   "source": [
    "## Instanciamos los embeddings"
   ]
  },
  {
   "cell_type": "code",
   "execution_count": 6,
   "metadata": {},
   "outputs": [],
   "source": [
    "\n",
    "embeddings = HuggingFaceEmbeddings(model_name=\"sentence-transformers/all-mpnet-base-v2\")"
   ]
  },
  {
   "cell_type": "code",
   "execution_count": 27,
   "metadata": {},
   "outputs": [
    {
     "name": "stdout",
     "output_type": "stream",
     "text": [
      "Se creó el vector store con 11 documentos.\n"
     ]
    }
   ],
   "source": [
    "\n",
    "\n",
    "vector_store = Chroma.from_texts(\n",
    "    texts=web_texts,\n",
    "    collection_name=\"book_review2\",\n",
    "    embedding=embeddings,\n",
    ")\n",
    "print(f\"Se creó el vector store con {len(web_texts)} documentos.\")"
   ]
  },
  {
   "cell_type": "code",
   "execution_count": 8,
   "metadata": {},
   "outputs": [],
   "source": [
    "\n",
    "vector_store = Chroma(\n",
    "    collection_name=\"book_review2\",\n",
    "    embedding_function=embeddings,\n",
    ")"
   ]
  },
  {
   "cell_type": "code",
   "execution_count": 9,
   "metadata": {},
   "outputs": [],
   "source": [
    "retriever = vector_store.as_retriever()"
   ]
  },
  {
   "cell_type": "code",
   "execution_count": 18,
   "metadata": {},
   "outputs": [
    {
     "data": {
      "text/plain": [
       "5"
      ]
     },
     "execution_count": 18,
     "metadata": {},
     "output_type": "execute_result"
    }
   ],
   "source": [
    "question = \"Tell me about the philosophy of the book\"\n",
    "docs = vector_store.similarity_search(question, k=5)\n",
    "len(docs)"
   ]
  },
  {
   "cell_type": "code",
   "execution_count": 19,
   "metadata": {},
   "outputs": [
    {
     "data": {
      "text/plain": [
       "[Document(metadata={}, page_content='The Stranger\\nwritten by French writer Albert Camus is a novel that is centered around the philosophical idea of existentialism.'),\n",
       " Document(metadata={}, page_content='When I finished the book, I realized that I’ve been just trying to imitate other people’s lifestyles and trying to meet the expectations of others. I was merely walking on the pathways that were given because I was afraid to be considered a\\nstranger'),\n",
       " Document(metadata={}, page_content='stranger\\n. I learned that I am responsible to make decisions based on my own beliefs and values. This book inspired me to become less bound by societal expectations and to start inquiring about what kind of person I truly am.\\nIf you’re interested in reading the book, it will hopefully be as thought-provoking and compelling as it was for me.\\nInhyuk K.'),\n",
       " Document(metadata={}, page_content=', Meursault, personifies existentialism. The opening line spoken by Meursault clearly shows that he does not meet societal expectations and that he is cynical about societal values because we commonly expect that one should react with sorrow to the death of the parent. Meursault is an anomaly, a stranger to society. He does not drop a tear at his own mother’s funeral and sleeps with a woman the'),\n",
       " Document(metadata={}, page_content='with a woman the day after the funeral. Moreover, he goes to a court and shoots an Arabian man just because the sunlight was too strong. Is he a psychopath? I thought so, but my view on Meursault changed quite a bit after finishing the book.')]"
      ]
     },
     "execution_count": 19,
     "metadata": {},
     "output_type": "execute_result"
    }
   ],
   "source": [
    "docs"
   ]
  },
  {
   "cell_type": "code",
   "execution_count": 12,
   "metadata": {},
   "outputs": [],
   "source": [
    "\n",
    "# Prompt\n",
    "template = \"\"\"Answer the question based only on the following context:\n",
    "{context}\n",
    "\n",
    "Question: {question}\n",
    "\"\"\"\n",
    "prompt = ChatPromptTemplate.from_template(template)\n",
    "\n",
    "# Local LLM\n",
    "ollama_llm = \"llama3.2\"\n",
    "model_local = ChatOllama(model=ollama_llm)\n",
    "\n",
    "# Chain\n",
    "chain = (\n",
    "    {\"context\": retriever, \"question\": RunnablePassthrough()}\n",
    "    | prompt\n",
    "    | model_local\n",
    "    | StrOutputParser()\n",
    ")"
   ]
  },
  {
   "cell_type": "code",
   "execution_count": 14,
   "metadata": {},
   "outputs": [
    {
     "data": {
      "text/plain": [
       "'The philosophy presented in \"The Stranger\" by Albert Camus is centered around existentialism. This philosophical idea emphasizes individual freedom and choice, as well as personal responsibility for one\\'s actions and decisions. The main character, Meursault, embodies this philosophy through his actions and thoughts, which demonstrate a sense of detachment from societal expectations and norms.\\n\\nExistentialism suggests that people must take ownership of their lives and create their own meaning, rather than relying on external sources such as society or tradition. Camus\\' protagonist is often described as an \"anomaly\" or a \"stranger\" because he does not conform to the expected emotional responses to life\\'s events, such as crying at his mother\\'s funeral.\\n\\nThe book encourages readers to question societal expectations and values, and to explore their own beliefs and values in order to create a more authentic and meaningful life. Through Meursault\\'s character, Camus illustrates the importance of individual choice and responsibility, and the need for people to forge their own paths in life rather than following the crowd.\\n\\nOverall, \"The Stranger\" is a classic example of existentialist philosophy, exploring themes of individual freedom, personal responsibility, and the search for meaning in a seemingly indifferent world.'"
      ]
     },
     "execution_count": 14,
     "metadata": {},
     "output_type": "execute_result"
    }
   ],
   "source": [
    "chain.invoke(\"Tell me about the philosophy of the book\")"
   ]
  },
  {
   "cell_type": "code",
   "execution_count": 15,
   "metadata": {},
   "outputs": [
    {
     "data": {
      "text/plain": [
       "\"The main character's name is Meursault. He personifies existentialism and can be described as an anomaly to societal expectations. He displays a lack of emotional response to certain situations, such as his mother's death and his own actions being considered morally questionable. Despite this, his perspective on life changes throughout the book.\""
      ]
     },
     "execution_count": 15,
     "metadata": {},
     "output_type": "execute_result"
    }
   ],
   "source": [
    "chain.invoke(\"Tell me about the main character\")"
   ]
  },
  {
   "cell_type": "code",
   "execution_count": 20,
   "metadata": {},
   "outputs": [
    {
     "data": {
      "text/plain": [
       "'Based on the context, it seems that the reviewer, Inhyuk K., is highly impressed with the book \"The Stranger\" by Albert Camus. The tone of the review suggests that the book had a profound impact on the reviewer, inspiring them to reflect on their own values and beliefs.\\n\\nThe use of phrases such as \"thought-provoking and compelling\", \"my view on Meursault changed quite a bit after finishing the book\", and \"I am responsible to make decisions based on my own beliefs and values\" indicate that the reviewer found the book to be deeply meaningful and life-changing. The reviewer also seems to appreciate the author\\'s writing style, noting that the opening line is particularly effective.\\n\\nOverall, it appears that Inhyuk K. highly recommends \"The Stranger\" to readers who are looking for a thought-provoking and inspiring literary experience.'"
      ]
     },
     "execution_count": 20,
     "metadata": {},
     "output_type": "execute_result"
    }
   ],
   "source": [
    "chain.invoke(\"What do you think about the review?\")"
   ]
  },
  {
   "cell_type": "code",
   "execution_count": 17,
   "metadata": {},
   "outputs": [
    {
     "data": {
      "text/plain": [
       "\"According to the context, the reviewer's name is In-Hyuk K. and he writes for OYISTER.\""
      ]
     },
     "execution_count": 17,
     "metadata": {},
     "output_type": "execute_result"
    }
   ],
   "source": [
    "chain.invoke(\"Who is the writter of the review?\")"
   ]
  },
  {
   "cell_type": "code",
   "execution_count": 24,
   "metadata": {},
   "outputs": [
    {
     "data": {
      "text/plain": [
       "'\"The Stranger\" written by Albert Camus is a novel that begins with the following line:\\n\\n“Maman died today. Or yesterday maybe, I don’t know. I got a telegram from the home: ‘Mother deceased. Funeral tomorrow. Faithfully yours.’ That doesn’t mean anything. Maybe it was yesterday.”'"
      ]
     },
     "execution_count": 24,
     "metadata": {},
     "output_type": "execute_result"
    }
   ],
   "source": [
    "chain.invoke(\"opening line of the book\")"
   ]
  }
 ],
 "metadata": {
  "kernelspec": {
   "display_name": "rag",
   "language": "python",
   "name": "python3"
  },
  "language_info": {
   "codemirror_mode": {
    "name": "ipython",
    "version": 3
   },
   "file_extension": ".py",
   "mimetype": "text/x-python",
   "name": "python",
   "nbconvert_exporter": "python",
   "pygments_lexer": "ipython3",
   "version": "3.13.1"
  }
 },
 "nbformat": 4,
 "nbformat_minor": 2
}
