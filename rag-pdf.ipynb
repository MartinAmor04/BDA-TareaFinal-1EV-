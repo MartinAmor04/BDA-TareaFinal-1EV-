{
 "cells": [
  {
   "cell_type": "code",
   "execution_count": 52,
   "metadata": {},
   "outputs": [
    {
     "name": "stdout",
     "output_type": "stream",
     "text": [
      "Se cargaron y dividieron 220 fragmentos de texto.\n"
     ]
    }
   ],
   "source": [
    "from langchain_community.document_loaders import PyPDFLoader\n",
    "from langchain.text_splitter import RecursiveCharacterTextSplitter\n",
    "\n",
    "pdf_files = [\"documents/pruebaLLM.pdf\",\"documents/pruebaLLM2.pdf\", \"documents/MartinScorsese.pdf\"]  # Agrega la lista de archivos PDF\n",
    "# pdf_files = [\"documents/pruebaLLM2.pdf\"]  # Agrega la lista de archivos PDF\n",
    "\n",
    "all_documents = []\n",
    "\n",
    "for document in pdf_files:\n",
    "    loader = PyPDFLoader(document)\n",
    "    data = loader.load()\n",
    "    text_splitter = RecursiveCharacterTextSplitter(chunk_size=400, chunk_overlap=20)    # Split the data into chunks\n",
    "    documents = text_splitter.split_documents(data)\n",
    "    all_documents.extend(documents)\n",
    "\n",
    "print(f\"Se cargaron y dividieron {len(all_documents)} fragmentos de texto.\")\n",
    "\n"
   ]
  },
  {
   "cell_type": "code",
   "execution_count": 53,
   "metadata": {},
   "outputs": [],
   "source": [
    "from langchain_huggingface import HuggingFaceEmbeddings\n",
    "\n",
    "embeddings = HuggingFaceEmbeddings(model_name=\"sentence-transformers/all-mpnet-base-v2\")"
   ]
  },
  {
   "cell_type": "code",
   "execution_count": 54,
   "metadata": {},
   "outputs": [
    {
     "name": "stdout",
     "output_type": "stream",
     "text": [
      "Se creó el vector store con 220 documentos.\n"
     ]
    }
   ],
   "source": [
    "from langchain_chroma import Chroma\n",
    "\n",
    "# Crear un vector store de Chroma usando los documentos y el modelo de embeddings\n",
    "vector_store = Chroma.from_documents(\n",
    "    documents=all_documents,\n",
    "    collection_name=\"pdfs_2\",\n",
    "    embedding=embeddings,  # Pasar el modelo de embeddings aquí\n",
    ")\n",
    "\n",
    "print(f\"Se creó el vector store con {len(all_documents)} documentos.\")"
   ]
  },
  {
   "cell_type": "code",
   "execution_count": 55,
   "metadata": {},
   "outputs": [],
   "source": [
    "from langchain_chroma import Chroma\n",
    "\n",
    "vector_store = Chroma(\n",
    "    collection_name=\"pdfs_2\",\n",
    "    embedding_function=embeddings,\n",
    ")"
   ]
  },
  {
   "cell_type": "code",
   "execution_count": 56,
   "metadata": {},
   "outputs": [],
   "source": [
    "retriever = vector_store.as_retriever()"
   ]
  },
  {
   "cell_type": "code",
   "execution_count": 57,
   "metadata": {},
   "outputs": [
    {
     "data": {
      "text/plain": [
       "4"
      ]
     },
     "execution_count": 57,
     "metadata": {},
     "output_type": "execute_result"
    }
   ],
   "source": [
    "question = \"Como es la filmografia de Martin Scorsese\"\n",
    "docs = vector_store.similarity_search(question)\n",
    "len(docs)"
   ]
  },
  {
   "cell_type": "code",
   "execution_count": 58,
   "metadata": {},
   "outputs": [
    {
     "data": {
      "text/plain": [
       "Document(metadata={'page': 21, 'source': 'documents/MartinScorsese.pdf'}, page_content='500. Paris, 1996.\\nMarino, Giuseppe Cario. Historiade laMafia. Barcelona: Ediciones B, 2002.\\nMillas, Jorge. LaViolenciay sus Máscaras. Santiago: Aconcagua, 1976.\\nRuiz, Raúl. PoéticaDel Cine. Santiago: Sudamericana, 2000.\\nScorsese, Martínyotros. APersonalJourneyWithMartínScorseseThroughAmericanMovie.\\nLondon: Akal, 1997.\\nScorsese, Martínyotros. Conversaciones con Scorsese. Madrid: Plot, 1987.')"
      ]
     },
     "execution_count": 58,
     "metadata": {},
     "output_type": "execute_result"
    }
   ],
   "source": [
    "docs[0]"
   ]
  },
  {
   "cell_type": "code",
   "execution_count": 59,
   "metadata": {},
   "outputs": [],
   "source": [
    "from langchain_core.output_parsers import StrOutputParser\n",
    "from langchain.prompts import ChatPromptTemplate\n",
    "from langchain_ollama.chat_models import ChatOllama\n",
    "from langchain_core.runnables import RunnableLambda, RunnablePassthrough\n",
    "\n",
    "# Prompt\n",
    "template = \"\"\"Answer the question based only on the following context:\n",
    "{context}\n",
    "\n",
    "Question: {question}\n",
    "\"\"\"\n",
    "prompt = ChatPromptTemplate.from_template(template)\n",
    "\n",
    "# Local LLM\n",
    "ollama_llm = \"llama3.2\"\n",
    "model_local = ChatOllama(model=ollama_llm)\n",
    "\n",
    "# Chain\n",
    "chain = (\n",
    "    {\"context\": retriever, \"question\": RunnablePassthrough()}\n",
    "    | prompt\n",
    "    | model_local\n",
    "    | StrOutputParser()\n",
    ")"
   ]
  },
  {
   "cell_type": "code",
   "execution_count": 65,
   "metadata": {},
   "outputs": [
    {
     "data": {
      "text/plain": [
       "'La respuesta a la pregunta es:\\n\\n- Película favorita de Juan: \"Mulholland Drive\"\\n- Color favorito de Juan: Amarillo'"
      ]
     },
     "execution_count": 65,
     "metadata": {},
     "output_type": "execute_result"
    }
   ],
   "source": [
    "chain.invoke(\"pelicula y color favorito de Juan(pruebaLLM2.pdf)\")"
   ]
  },
  {
   "cell_type": "code",
   "execution_count": 61,
   "metadata": {},
   "outputs": [
    {
     "data": {
      "text/plain": [
       "'Martin Scorsese es un cineasta conocido.'"
      ]
     },
     "execution_count": 61,
     "metadata": {},
     "output_type": "execute_result"
    }
   ],
   "source": [
    "chain.invoke(\"Quien es Martin Scorsese\")"
   ]
  },
  {
   "cell_type": "code",
   "execution_count": 62,
   "metadata": {},
   "outputs": [
    {
     "data": {
      "text/plain": [
       "'La violencia tiene una relación profunda y central en las películas de Martin Scorsese. Según el texto, la violencia es un aspecto inherente al hombre y a la sociedad, que aparece en muchas de sus obras, como en \"Mean Streets\", \"Casino\" (1995) entre otras. La violencia es presentada como una forma de vida, una opción creativa que se explora en las películas de Scorsese.\\n\\nEn este sentido, la violencia no solo se muestra en la acción física o en los conflictos, sino que también se refleja en la psicología y el comportamiento de los personajes. La violencia es un tema que se aborda de manera sutil y elíptica, lo que le da un carácter trágico y profundo.\\n\\nEn resumen, la violencia es una constante en las películas de Martin Scorsese, y se considera un aspecto fundamental de su estilo y visión artística.'"
      ]
     },
     "execution_count": 62,
     "metadata": {},
     "output_type": "execute_result"
    }
   ],
   "source": [
    "chain.invoke(\"Que relación tiene la violencia es sus películas?\")"
   ]
  },
  {
   "cell_type": "code",
   "execution_count": 63,
   "metadata": {},
   "outputs": [
    {
     "data": {
      "text/plain": [
       "'Según el contexto proporcionado, \"Goodfellas\" es un film dirigido por Martin Scorsese que explora la evocación de la elegancia del gángster en la tradición del cine de género. El filme está basado en la vida real de Henry Hill, quien se convirtió en un testigo estrella para las autoridades después de ser capturado y confesar sus crímenes.\\n\\nEn el contexto del documental \"AFI\\'S 100 Years... Loomovies\" realizado por Scorsese en 1998, se menciona que el film está dentro de la tradición del cine negro norteamericano, caracterizado por la puesta en escena de un universo de gángsters y delincuentes.\\n\\nEl filme también parece estar relacionado con otras obras de Scorsese, como \"Mean Streets\" (1973), \"Casino\" (1995) y \"Raging Bully\", que comparten una estructura y una disposición similar. Además, se menciona la circularidad en las escenas del film, que también se repite en otras películas de Scorsese.\\n\\nEn resumen, \"Goodfellas\" parece ser un filme dirigido por Martin Scorsese que explora la vida de un gángster y su desplazamiento hacia el lado correcto de la ley. El filme está dentro de la tradición del cine negro norteamericano y comparte una estructura y una disposición similar con otras obras de Scorsese.'"
      ]
     },
     "execution_count": 63,
     "metadata": {},
     "output_type": "execute_result"
    }
   ],
   "source": [
    "chain.invoke(\"Háblame de Goodfellas\")"
   ]
  }
 ],
 "metadata": {
  "kernelspec": {
   "display_name": "rag",
   "language": "python",
   "name": "python3"
  },
  "language_info": {
   "codemirror_mode": {
    "name": "ipython",
    "version": 3
   },
   "file_extension": ".py",
   "mimetype": "text/x-python",
   "name": "python",
   "nbconvert_exporter": "python",
   "pygments_lexer": "ipython3",
   "version": "3.13.1"
  }
 },
 "nbformat": 4,
 "nbformat_minor": 2
}
