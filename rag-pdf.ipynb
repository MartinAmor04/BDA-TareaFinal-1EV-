{
 "cells": [
  {
   "cell_type": "code",
   "execution_count": 3,
   "metadata": {},
   "outputs": [
    {
     "name": "stdout",
     "output_type": "stream",
     "text": [
      "Se cargaron y dividieron 220 fragmentos de texto.\n"
     ]
    }
   ],
   "source": [
    "from langchain_community.document_loaders import PyPDFLoader\n",
    "from langchain.text_splitter import RecursiveCharacterTextSplitter\n",
    "\n",
    "pdf_files = [\"documents/pruebaLLM.pdf\",\"documents/pruebaLLM2.pdf\", \"documents/MartinScorsese.pdf\"]  # Agrega la lista de archivos PDF\n",
    "\n",
    "all_documents = []\n",
    "\n",
    "for document in pdf_files:\n",
    "    loader = PyPDFLoader(document) # Carga el documento\n",
    "    data = loader.load()\n",
    "    text_splitter = RecursiveCharacterTextSplitter(chunk_size=400, chunk_overlap=20)    # Divide el texto en chunks\n",
    "    documents = text_splitter.split_documents(data)\n",
    "    all_documents.extend(documents)\n",
    "\n",
    "print(f\"Se cargaron y dividieron {len(all_documents)} fragmentos de texto.\")"
   ]
  },
  {
   "cell_type": "code",
   "execution_count": 4,
   "metadata": {},
   "outputs": [
    {
     "name": "stderr",
     "output_type": "stream",
     "text": [
      "/home/bigdata/miniconda3/envs/rag/lib/python3.13/site-packages/tqdm/auto.py:21: TqdmWarning: IProgress not found. Please update jupyter and ipywidgets. See https://ipywidgets.readthedocs.io/en/stable/user_install.html\n",
      "  from .autonotebook import tqdm as notebook_tqdm\n"
     ]
    }
   ],
   "source": [
    "from langchain_huggingface import HuggingFaceEmbeddings\n",
    "\n",
    "embeddings = HuggingFaceEmbeddings(model_name=\"sentence-transformers/all-mpnet-base-v2\")"
   ]
  },
  {
   "cell_type": "code",
   "execution_count": 5,
   "metadata": {},
   "outputs": [
    {
     "name": "stdout",
     "output_type": "stream",
     "text": [
      "Se creó el vector store con 220 documentos.\n"
     ]
    }
   ],
   "source": [
    "from langchain_chroma import Chroma\n",
    "\n",
    "# Crear un vector store de Chroma usando los documentos y el modelo de embeddings\n",
    "vector_store = Chroma.from_documents(\n",
    "    documents=all_documents,\n",
    "    collection_name=\"pdfs_2\",\n",
    "    embedding=embeddings,  # Pasar el modelo de embeddings aquí\n",
    ")\n",
    "\n",
    "print(f\"Se creó el vector store con {len(all_documents)} documentos.\")"
   ]
  },
  {
   "cell_type": "code",
   "execution_count": 6,
   "metadata": {},
   "outputs": [],
   "source": [
    "from langchain_chroma import Chroma\n",
    "\n",
    "vector_store = Chroma(\n",
    "    collection_name=\"pdfs_2\",\n",
    "    embedding_function=embeddings,\n",
    ")"
   ]
  },
  {
   "cell_type": "code",
   "execution_count": 7,
   "metadata": {},
   "outputs": [],
   "source": [
    "\n",
    "\n",
    "# Configurar el retriever\n",
    "retriever = vector_store.as_retriever()"
   ]
  },
  {
   "cell_type": "code",
   "execution_count": 8,
   "metadata": {},
   "outputs": [
    {
     "data": {
      "text/plain": [
       "10"
      ]
     },
     "execution_count": 8,
     "metadata": {},
     "output_type": "execute_result"
    }
   ],
   "source": [
    "question = \"Como es la filmografia de Martin Scorsese\"\n",
    "docs = vector_store.similarity_search(question, k=10)\n",
    "len(docs)"
   ]
  },
  {
   "cell_type": "code",
   "execution_count": 9,
   "metadata": {},
   "outputs": [
    {
     "data": {
      "text/plain": [
       "Document(metadata={'page': 21, 'source': 'documents/MartinScorsese.pdf'}, page_content='500. Paris, 1996.\\nMarino, Giuseppe Cario. Historiade laMafia. Barcelona: Ediciones B, 2002.\\nMillas, Jorge. LaViolenciay sus Máscaras. Santiago: Aconcagua, 1976.\\nRuiz, Raúl. PoéticaDel Cine. Santiago: Sudamericana, 2000.\\nScorsese, Martínyotros. APersonalJourneyWithMartínScorseseThroughAmericanMovie.\\nLondon: Akal, 1997.\\nScorsese, Martínyotros. Conversaciones con Scorsese. Madrid: Plot, 1987.')"
      ]
     },
     "execution_count": 9,
     "metadata": {},
     "output_type": "execute_result"
    }
   ],
   "source": [
    "docs[0]"
   ]
  },
  {
   "cell_type": "code",
   "execution_count": 10,
   "metadata": {},
   "outputs": [],
   "source": [
    "from langchain_core.output_parsers import StrOutputParser\n",
    "from langchain.prompts import ChatPromptTemplate\n",
    "from langchain_ollama.chat_models import ChatOllama\n",
    "from langchain_core.runnables import RunnableLambda, RunnablePassthrough\n",
    "\n",
    "# Prompt\n",
    "template = \"\"\"Answer the question based only on the following context:\n",
    "{context}\n",
    "\n",
    "Question: {question}\n",
    "\"\"\"\n",
    "prompt = ChatPromptTemplate.from_template(template)\n",
    "\n",
    "# Local LLM\n",
    "ollama_llm = \"llama3.2\"\n",
    "model_local = ChatOllama(model=ollama_llm)\n",
    "\n",
    "# Chain\n",
    "chain = (\n",
    "    {\"context\": retriever, \"question\": RunnablePassthrough()}\n",
    "    | prompt\n",
    "    | model_local\n",
    "    | StrOutputParser()\n",
    ")"
   ]
  },
  {
   "cell_type": "code",
   "execution_count": 11,
   "metadata": {},
   "outputs": [
    {
     "data": {
      "text/plain": [
       "'La respuesta a la pregunta es:\\n\\n- Película favorita: Mulholland Drive\\n- Color favorito: Amarillo'"
      ]
     },
     "execution_count": 11,
     "metadata": {},
     "output_type": "execute_result"
    }
   ],
   "source": [
    "chain.invoke(\"pelicula y color favorito de Juan(pruebaLLM2.pdf)\")"
   ]
  },
  {
   "cell_type": "code",
   "execution_count": 12,
   "metadata": {},
   "outputs": [
    {
     "data": {
      "text/plain": [
       "'Según el texto proporcionado, Martin Scorsese es un cineasta conocido. Se menciona que su presencia como actor debería pasar inadvertida debido a su fama y manejo mediático, lo que sugiere que no es un actor destacado por su actuación en películas. Sin embargo, su trabajo como director de cine es el que se destaca en el texto.'"
      ]
     },
     "execution_count": 12,
     "metadata": {},
     "output_type": "execute_result"
    }
   ],
   "source": [
    "chain.invoke(\"Quien es Martin Scorsese\")"
   ]
  },
  {
   "cell_type": "code",
   "execution_count": 13,
   "metadata": {},
   "outputs": [
    {
     "data": {
      "text/plain": [
       "'La violencia es un tema central en las películas de Martin Scorsese, según el texto proporcionado. Se menciona que la violencia es una forma de vida en muchas de sus obras, incluyendo \"Mean Streets\", y que se presenta como un aspecto inherente al hombre y a la sociedad. También se menciona que la violencia es una constante opresión del sentido aparentoso de la realidad en su cine, especialmente en películas como \"Casino\" (1995). Además, se destaca que la violencia en Scorsese no es solo física, sino también psicológica y emocional.\\n\\nEn general, parece que la violencia en las películas de Martin Scorsese es un tema complejo y multifacético que aborda temas como la tragedia, el drama y la exploración del ser humano.'"
      ]
     },
     "execution_count": 13,
     "metadata": {},
     "output_type": "execute_result"
    }
   ],
   "source": [
    "chain.invoke(\"Que relación tiene la violencia es sus películas?\")"
   ]
  },
  {
   "cell_type": "code",
   "execution_count": 14,
   "metadata": {},
   "outputs": [
    {
     "data": {
      "text/plain": [
       "'En el documento, hay varias secciones que tratan sobre Goodfellas:\\n\\n1. La primera sección (página 18) menciona la evocación de la \"ostentosa elegancia del gángster\" en el cine de género y cómo la película Goodfellas convoca a un grupo de personajes, incluyendo a Michael, en un mundo determinado por ambigüedades.\\n2. La segunda sección (páginas 12) habla sobre las enseñanzas de Paul Cicero, el padrino de Goodfellas, y su autodestrucción, así como la moral gangsteril presente en el film y su relación con la tradición del cine de género.\\n3. La tercera sección (página 4) menciona la importancia de seguir la trayectoria criminal de un padre en la familia Corleone y cómo esta familia es una organización dentro del Estado, que ha convertido el crimen en un modo de vida.\\n4. La última sección (página 12) analiza la estructura del relato y la eficacia de Scorsese en la planificación y montaje del film, destacando la circularidad entre las cuatro escenas.\\n\\nEn resumen, el documento ofrece una visión general de la película Goodfellas, abordando temas como su representación del gángster, su moralidad y su estructura narrativa.'"
      ]
     },
     "execution_count": 14,
     "metadata": {},
     "output_type": "execute_result"
    }
   ],
   "source": [
    "chain.invoke(\"Que hay en el documento sobre Goodfellas\")"
   ]
  },
  {
   "cell_type": "code",
   "execution_count": 15,
   "metadata": {},
   "outputs": [
    {
     "data": {
      "text/plain": [
       "'El documento \"La violencia como opción creativa en la obra de Martin Scorsese\" parece ser un análisis filosófico y cinematográfico sobre la figura del director Martin Scorsese. A continuación, se presentan los puntos clave resumidos del texto:\\n\\n1. **Violencia como opción creativa**: El documento establece que la violencia es una fuerza fundamental en la obra de Scorsese, que utiliza para expresar su visión y crear un mundo cinematográfico único.\\n2. **Análisis de algunas películas**: A través de análisis de algunas de sus películas, como \"Mean Streets\" (1973) y \"El Padrino\" (1972), se demuestra cómo Scorsese utiliza la violencia para explorar temas como la fe, el fatalismo y la moralidad.\\n3. **La poesía de la violencia**: El texto afirma que la violencia en Scorsese es una forma de poesía, una forma de expresión que se inscribe en un lenguaje visual y narrativo único.\\n4. **Consecuencia moral a la violencia**: Aunque admite que la violencia es una fuerza destructiva, el documento sostiene que Scorsese ofrece una consecuencia moral a la violencia, explorándola de manera creativa para hacer de ella un soporte artístico.\\n5. **Influencias y referencias culturales**: El texto menciona la influencia del cine italiano y de Federico Fellini en la obra de Scorsese, así como sus propias referencias a la Biblia, específicamente a San Pablo.\\n\\nEn resumen, el documento \"La violencia como opción creativa en la obra de Martin Scorsese\" es un análisis filosófico y cinematográfico que explora la figura del director Scorsese y su uso de la violencia en sus películas para expresar su visión artística y explorar temas morales y existenciales.'"
      ]
     },
     "execution_count": 15,
     "metadata": {},
     "output_type": "execute_result"
    }
   ],
   "source": [
    "chain.invoke(\"Resume el documento 'LA VIOLENCIA COMO OPCIÓN CREATIVA EN LA OBRA DE MARTÍN SCORSESE'\")"
   ]
  },
  {
   "cell_type": "code",
   "execution_count": 16,
   "metadata": {},
   "outputs": [
    {
     "data": {
      "text/plain": [
       "'La mafia es un tema central en las películas de Martin Scorsese, y su relación con él se puede resumir en que la organización criminal se presenta como una parte integral del Estado, más allá de su naturaleza ilegal. Según la cita incluida en el texto, Scorsese afirma que \"la mafia es la más fuerte\" y que \"Primero está la familia, es decir, la tuya más la mafia, luego la iglesia\". Esto sugiere que la mafia no solo es una estructura social pervertida, sino también un elemento fundamental de la sociedad italiana.\\n\\nAdemás, la película de Scorsese parece explorar la complejidad de la mafia, mostrando su lado oscuro y brutal, pero también su faceta más humana y protectora. La cita del número 78 menciona que los gángsters pueden ser \"manipuladores y muy brutos\" al mismo tiempo, lo que sugiere una dimensión psicológica de la mafia.\\n\\nEn general, la relación de la mafia con las películas de Scorsese se centra en su representación como una parte integral de la sociedad italiana, con sus propias normas y estructuras sociales, y no solo como un grupo criminal perjudicial. Esto es reflejado en su interés por explorar los aspectos más profundos y complejos de la mafia, más allá de la simple violencia y el crimen.'"
      ]
     },
     "execution_count": 16,
     "metadata": {},
     "output_type": "execute_result"
    }
   ],
   "source": [
    "chain.invoke(\"Que relación tiene la mafia en sus películas?\")"
   ]
  }
 ],
 "metadata": {
  "kernelspec": {
   "display_name": "rag",
   "language": "python",
   "name": "python3"
  },
  "language_info": {
   "codemirror_mode": {
    "name": "ipython",
    "version": 3
   },
   "file_extension": ".py",
   "mimetype": "text/x-python",
   "name": "python",
   "nbconvert_exporter": "python",
   "pygments_lexer": "ipython3",
   "version": "3.13.1"
  }
 },
 "nbformat": 4,
 "nbformat_minor": 2
}
